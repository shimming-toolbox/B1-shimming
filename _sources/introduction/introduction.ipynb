{
 "cells": [
  {
   "cell_type": "markdown",
   "id": "7b240db5",
   "metadata": {},
   "source": [
    "(introduction)=\n",
    "\n",
    "# Introduction\n",
    "\n",
    "It has been shown that Magnetic Resonance Imaging (MRI) at Ultra High Field (UHF, 7 tesla and above) results in a better Signal-to-Noise \n",
    "Ratio (SNR) and thus allows for a better image resolution and/or shorter scan time, which is of interest for diagnostic \n",
    "purpose and clinical workflow.\n",
    "These benefits are mainly due to the fact that the measured MR signal is directly proportional to the square value of \n",
    "the main magnetic field strength $B_0$:  \n",
    "\n",
    "$$\n",
    "  \\large signal \\propto \\frac{\\gamma^3B_0^2\\rho_0}{T}\n",
    "$$\n",
    "\n",
    "With: \n",
    "- $\\gamma$: gyromagnetic ratio of the proton ($2.675 \\times 10^8 s^{-1} T^{-1}$) \n",
    "- $\\rho_0$: spin density (number of protons per unit volume in $m^{-3}$)\n",
    "- $T$: Temperature ($K$)\n",
    "\n",
    "\n",
    "\n",
    "These improvements come along with a **decrease of the wavelength** of the radio-frequency field $B_1$ required to flip \n",
    "the spins, as the wavelength $\\lambda$ relates to $B_0$ as follows:\n",
    "\n",
    "$$\n",
    "  \\large \\lambda \\propto \\frac{1}{\\sqrt{\\epsilon_r}\\times B_0}\n",
    "$$\n",
    "\n",
    "With $\\epsilon_r$ being the permittivity of the propagation medium. \n",
    "\n",
    "At UHF, it thus becomes hard to get a homogeneous flip angle over a body-sized region of interest. For example, **at 7T \n",
    "the RF wavelength in the human body is approximately 11 cm**, which is on the order of the field-of-view used to image with MRI.\n",
    "\n",
    "As the measured MR signal is directly proportional to the flip angle (for the simple gradient echo experiment, assuming a starting condition with fully relaxed spins), this results in an inhomogeneous intensity across the images acquired at UHF.\n",
    "\n",
    "<center>\n",
    "<img src=\"https://mri-q.com/uploads/3/4/5/7/34572113/2610674.jpg?282\" alt=\"Wavelength decrease at High Field\" \n",
    "style=\"width:40%\">\n",
    "\n",
    "The RF wavelength shortens as the $B_0$ field increases.<br>\n",
    "Source: [Questions and Answers in MRI: Dielectric effect](https://mri-q.com/dielectric-effect.html)\n",
    "</center>\n",
    "\n",
    "Moreover, imaging at UHF often requires the use of coils composed of multiple transmit \n",
    "elements positioned close to imaged region (e.g., head coils, spine coils, knee coils).\n",
    "The use of multiple elements induces constructive and destructive RF-interferences within the patient's tissues, potentially resulting in inhomogeneous intensities across the final MR images and high energy deposition at specific spatial locations.\n",
    "\n",
    "To overcome these challenges and produce homogeneous RF fields, the monitoring of the phase and magnitude of each \n",
    "transmit elements along with RF pulse design methods have been developed during the past decades. This process is \n",
    "usually referred to as $B_1^+$ **shimming** or **RF-shimming**.\n",
    "\n",
    "This Jupyter book aims to present the basis of RF-shimming and to show examples of algorithms that can be used to \n",
    "homogenize the $B_1^+$ field."
   ]
  }
 ],
 "metadata": {
  "jupytext": {
   "text_representation": {
    "extension": ".md",
    "format_name": "myst",
    "format_version": 0.13,
    "jupytext_version": "1.11.5"
   }
  },
  "kernelspec": {
   "display_name": "Python 3 (ipykernel)",
   "language": "python",
   "name": "python3"
  },
  "language_info": {
   "codemirror_mode": {
    "name": "ipython",
    "version": 3
   },
   "file_extension": ".py",
   "mimetype": "text/x-python",
   "name": "python",
   "nbconvert_exporter": "python",
   "pygments_lexer": "ipython3",
   "version": "3.7.13"
  },
  "source_map": [
   12
  ]
 },
 "nbformat": 4,
 "nbformat_minor": 5
}