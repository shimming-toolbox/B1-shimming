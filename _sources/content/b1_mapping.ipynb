{
 "cells": [
  {
   "cell_type": "markdown",
   "id": "745ef34e",
   "metadata": {},
   "source": [
    "# Mapping the $B_1^+$ field"
   ]
  },
  {
   "cell_type": "code",
   "execution_count": null,
   "id": "fa086cb5",
   "metadata": {
    "tags": [
     "hide-input"
    ]
   },
   "outputs": [],
   "source": [
    "# Import all python libraries and functions used in this notebook\n",
    "import matplotlib.pyplot as plt\n",
    "import numpy as np\n",
    "\n",
    "from functions import montage"
   ]
  },
  {
   "cell_type": "markdown",
   "id": "4e904d3b",
   "metadata": {},
   "source": [
    "In order to produce the MR signal used to reconstruct an image, we use electromagnetic elements to produce the $B_1$ magnetic field that tilts the spins out of their equilibrium position along $B_0$. To efficiently tilt the spins in the transverse plane, $B_1$ must oscillate at the Larmor Frequency of these spins, which depends on their gyromagnetic ratio $\\gamma$ and the $B_0$ field strength. While returning to their equilibrium position (relaxation), the spins emit the measured MR signal which also oscillates at the Larmor Frequency.\n",
    "\n",
    "Every transmit (Tx) element produces its own radio-frequency (RF) field, which can be seen as a complex spatial distribution (it has a **magnitude** and a **phase**).\n",
    "\n",
    "The RF magnetic field produced by the Tx elements is commonly referred to as the $B_1^+$ field. In opposition, the $B_1^-$ field is the RF magnetic field produced back by the excited protons in the body that will be measured by the receive (Rx) elements.\n",
    "\n",
    "Usually, the $B_1^+$ magnitude will be stronger near the corresponding transmit elements and progressively decrease as we get further away. But when we use several Tx elements simultaneously, the complex RF fields produced by the different Tx elements interfere with each other, resulting in a total $B_1^+$ distribution that won't necessarily be stronger near the Tx elements.\n",
    "\n",
    "In this Jupyter book, we present different methods that can be used to control the $B_1^+$ distribution during MRI experiments. The first step to do so is to measure the individual $B_1^+$ fields produced by the different Tx elements. This process is known as **$B_1^+$ mapping**.\n",
    "\n",
    "The in-vivo $B_1^+$ data shown below come from [Parallel Transmission RF Shimming GUI](https://cai2r.net/resources/parallel-transmission-rf-shimming-gui/)$^{[1]}$ and correspond to a single slice $B_1^+$ mapping performed on each element of an 8-channels 7T head-coil.\n",
    "\n",
    "[1] Deniz et al. 2013. \"Maximum efficiency radiofrequency shimming: Theory and initial application for hip imaging at 7 tesla.\" "
   ]
  },
  {
   "cell_type": "code",
   "execution_count": null,
   "id": "8d76294c",
   "metadata": {
    "tags": [
     "hide-input"
    ]
   },
   "outputs": [],
   "source": [
    "# Load the data\n",
    "b1_maps = np.load('./data/b1_maps.npy') # Complex 2D B1 maps of each element (x, y, n_coils)\n",
    "\n",
    "plt.figure(figsize=[20, 10])\n",
    "plt.suptitle(\"Complex individual $B_1^+$ maps\", fontsize=35)\n",
    "plt.subplot(121)\n",
    "montage(np.abs(b1_maps), colormap='viridis') # Show the B1 magnitudes of the individual coils\n",
    "plt.title('$B_1^+$ magnitude', fontsize=30)\n",
    "cbar = plt.colorbar(pad=0.02)\n",
    "cbar.ax.set_title('nT/V', fontsize=25, pad=10)\n",
    "cbar.ax.tick_params(labelsize=20)\n",
    "\n",
    "plt.subplot(122)\n",
    "montage(np.angle(b1_maps), colormap='viridis') # Show the B1 phases of the individual coils\n",
    "plt.title('$B_1^+$ phase', fontsize=30)\n",
    "cbar = plt.colorbar(pad=0.02)\n",
    "cbar.ax.set_title('rad', fontsize=25, pad=10)\n",
    "cbar.ax.tick_params(labelsize=20)\n",
    "plt.tight_layout(rect=(0, 0, 1, 0.95))"
   ]
  },
  {
   "cell_type": "markdown",
   "id": "ae303c32",
   "metadata": {},
   "source": [
    "By looking at the \"hotspots\" on the magnitude images (the bright yellow-green areas), we can observe that the Tx elements are regularly placed all around the patient's head in order to achieve circular polarization excitation.\n",
    "\n",
    "```{note}\n",
    "Both magnitude and phase values are essential for $B_1^+$ shimming applications, as the total $B_1^+$ field produced by a RF coil is the complex sum of all its individual Tx $B_1^+$ fields.\n",
    "```"
   ]
  }
 ],
 "metadata": {
  "celltoolbar": "Éditer les Méta-Données",
  "kernelspec": {
   "display_name": "Python 3 (ipykernel)",
   "language": "python",
   "name": "python3"
  },
  "language_info": {
   "codemirror_mode": {
    "name": "ipython",
    "version": 3
   },
   "file_extension": ".py",
   "mimetype": "text/x-python",
   "name": "python",
   "nbconvert_exporter": "python",
   "pygments_lexer": "ipython3",
   "version": "3.7.11"
  }
 },
 "nbformat": 4,
 "nbformat_minor": 5
}
