{
 "cells": [
  {
   "cell_type": "markdown",
   "id": "bored-raising",
   "metadata": {},
   "source": [
    "# Circular polarization (CP mode)"
   ]
  },
  {
   "cell_type": "code",
   "execution_count": null,
   "id": "1db60e2a",
   "metadata": {
    "tags": [
     "hide-input"
    ]
   },
   "outputs": [],
   "source": [
    "# Import all python libraries and functions used in this notebook\n",
    "import matplotlib.pyplot as plt\n",
    "import numpy as np\n",
    "import scipy.ndimage as skymage\n",
    "\n",
    "from functions import simulate_b1_maps, print_cov\n",
    "from scipy.stats import variation"
   ]
  },
  {
   "cell_type": "markdown",
   "id": "ad6c9d4d",
   "metadata": {},
   "source": [
    "To reduce the $B_1^+$ inhomogeneities that we saw in the previous chapter, we could modify the phase of the pulse that is sent by each individual Tx element to achieve a *phase coherence* when summing the RF signal sent by all Tx in the region of interest. This would result in less destructive RF interferences and a more homogeneous $B_1^+$ field. This method is analogous to the phased-array method to boost the detection in radar applications, but here we use the same principle for transmission. When there are multiple Tx elements distributed around the region of interest, we want those Tx elements to produce a constructive RF excitation profile *simultaneously*, that is, the phase of the pulse sent by each Tx element depends on the spatial location of that element. For example, if two Tx elements are positioned at a 90° angle, then the first one will send a pulse with a 0 degree phase while the second will send the pulse with a $pi/2$ delay. If we now place a 3rd Tx element opposite to the first element, it would send the pulse with a $pi$ phase delay. \n",
    "\n",
    "This type of excitation is called circular polarization (CP). As its names implies, it consists of generating a circularly polarized RF field by exciting Tx elements evenly spaced all around the subject with regularly spaced phases from 0 to 2$\\pi$. CP excitation can be achieved on a **single transmit (sTx)** system by using phase shifter circuits on the wiring of the different Tx elements. The inconvenience of an sTx system is that the phase is fixed for each element, which gives no freedom to modify the phase in case the excitation profile needs to be slightly modified. Conversely, **parallel transmit (pTx)** systems are specifically designed to send a pulse with a desired shape, magnitude and phase on each of the available channels. There could be 2, 8, 16 or even more pTx channels depending on the system. Obviously, more channels come at higher price. \n",
    "\n",
    "```{note}\n",
    "CP mode is efficient when used with classic circular volume coils with evenly spaced Tx elements such as birdcage or TEM coils, but it is not necessarily compatible with more complicated coil designs that are becoming increasingly popular. In these cases, the coil manufacturer will usually provide a set of phase values to use as a default excitation mode and might sometimes be referred to as \"CP mode\", even if it does not exactly do a *true* circular polarization.\n",
    "```\n",
    "\n",
    "Using the same simulated $B_1^+$ field as in the previous section, let's compare the single pulse excitation (i.e., same phase everywhere) with the CP mode:"
   ]
  },
  {
   "cell_type": "code",
   "execution_count": null,
   "id": "75114f8d",
   "metadata": {
    "scrolled": false,
    "tags": [
     "hide-input"
    ]
   },
   "outputs": [],
   "source": [
    "n_Tx = 8 # Number of transmit elements to simulate\n",
    "b1_maps, Tx_positions = simulate_b1_maps(n_Tx, 90)\n",
    "\n",
    "b1_sTx = b1_maps @ np.ones(n_Tx)  # Single pulse excitation\n",
    "b1_CP = b1_maps @ np.exp(1j * np.linspace(0, 2*(np.pi - np.pi / n_Tx), n_Tx))  # CP mode\n",
    "\n",
    "plt.figure(figsize=(17, 14), constrained_layout=True)\n",
    "plt.suptitle(\"Single pulse excitation vs CP mode\", fontsize=30, y=1.05)\n",
    "plt.subplot(221)\n",
    "plt.imshow(np.abs(b1_sTx)); plt.axis('off'); plt.title(\"Single pulse excitation\", fontsize=25);\n",
    "plt.text(54, 12, \"Magnitude [u.a.]\", color='white', fontsize=25)\n",
    "plt.clim([0, 3])\n",
    "plt.colorbar(pad=0.01)\n",
    "plt.scatter(Tx_positions[:, 1], Tx_positions[:, 0], s=50, marker='o', color=(1, 1, 0))\n",
    "plt.subplot(222)\n",
    "plt.imshow(np.abs(b1_CP)); plt.axis('off'); plt.title(\"CP mode\", fontsize=25);\n",
    "plt.text(54, 12, \"Magnitude [u.a.]\", color='white', fontsize=25)\n",
    "plt.clim([0, 3])\n",
    "plt.colorbar(pad=0.01)\n",
    "plt.scatter(Tx_positions[:, 1], Tx_positions[:, 0], s=50, marker='o', color=(1, 1, 0))\n",
    "plt.subplot(223)\n",
    "plt.imshow(np.angle(b1_sTx), vmin=-np.pi, vmax=np.pi); plt.axis('off');\n",
    "plt.text(64, 12, \"Phase [rad]\", color='white', fontsize=25)\n",
    "plt.colorbar(pad=0.01)\n",
    "plt.scatter(Tx_positions[:, 1], Tx_positions[:, 0], s=50, marker='o', color=(1, 1, 0))\n",
    "plt.subplot(224)\n",
    "plt.imshow(np.angle(b1_CP)); plt.axis('off');\n",
    "plt.text(64, 12, \"Phase [rad]\", color='white', fontsize=25)\n",
    "plt.colorbar(pad=0.01)\n",
    "plt.scatter(Tx_positions[:, 1], Tx_positions[:, 0], s=50, marker='o', color=(1, 1, 0))\n",
    "plt.show()"
   ]
  },
  {
   "cell_type": "markdown",
   "id": "3550da6f",
   "metadata": {},
   "source": [
    "The CP mode results in a more homogeneous magnitude profile and helps getting rid of the central brightening effect. However, it results in a very low $B_1^+$ in the middle of the sphere, which could be problematic from an imaging standpoint. \n",
    "\n",
    "The phase images illustrate particularly well the circular aspect of the polarization.\n",
    "\n",
    "In order to evaluate the benefits of the CP mode regarding the $B_1^+$ homogeneity, we need to quantify the homogeneity obtained with both scenarios. A useful metric to do so is the **coefficient of variation (CoV or CV)** which is defined as the standard deviation of the total $B_1^+$ field divided by its mean value:\n",
    "\n",
    "$$\n",
    "  CoV = \\frac{std(B_1^+)}{mean(B_1^+)}\n",
    "$$\n",
    "\n",
    "From the formula above, we understand that a homogeneous $B_1^+$ field is associated with a low **CoV**.\n",
    "\n",
    "In our simulation, we get the following CoV values:"
   ]
  },
  {
   "cell_type": "code",
   "execution_count": null,
   "id": "outer-trick",
   "metadata": {
    "scrolled": true,
    "tags": [
     "hide-input"
    ]
   },
   "outputs": [],
   "source": [
    "print(f\"CoV (single pulse): {variation(np.abs(b1_sTx[b1_sTx!=0])):.3f}\")  # CoV in the mask - single pulse\n",
    "print(f\"CoV (CP mode): {variation(np.abs(b1_CP[b1_CP!=0])):.3f}\")  # CoV in the mask - CP mode\n",
    "print(f\"{variation(np.abs(b1_sTx[b1_sTx!=0]))/variation(np.abs(b1_CP[b1_CP!=0])):.2f} fold CoV decrease\")  # Ratio"
   ]
  },
  {
   "cell_type": "markdown",
   "id": "881e79ff",
   "metadata": {},
   "source": [
    "These results show that, in this particular example, the CP mode is very efficient at homogenizing the $B_1^+$ field as it results in a 2.37 lower CoV compared to a single pulse excitation. However, these benefits clearly depend on the geometry of the subject, the position of the transmit elements and the RF wavelength. "
   ]
  },
  {
   "cell_type": "markdown",
   "id": "present-catholic",
   "metadata": {},
   "source": [
    "# Effect of the wavelength on the CP mode benefits"
   ]
  },
  {
   "cell_type": "markdown",
   "id": "6b154a07",
   "metadata": {},
   "source": [
    "To better assess how the RF wavelength impacts the homogeneity improvement of the CP mode compared to single pulse in a given coil configuration, let's run the previous simulation while varying the RF wavelength and return the CoV ratio corresponding to each wavelength:"
   ]
  },
  {
   "cell_type": "code",
   "execution_count": null,
   "id": "solved-pepper",
   "metadata": {
    "tags": [
     "hide-input"
    ]
   },
   "outputs": [],
   "source": [
    "phases = np.linspace(0, 2*(np.pi-np.pi/n_Tx), n_Tx)\n",
    "weights_sTx = np.ones(n_Tx)/np.sqrt(n_Tx)\n",
    "weights_CP = np.ones(n_Tx) / np.sqrt(n_Tx) * np.exp(1j * phases)\n",
    "\n",
    "wavelength_values = np.linspace(1, 150, 50)  # Array of wavelengths to test\n",
    "CoV_ratio = []\n",
    "for n, wavelength in enumerate(wavelength_values):\n",
    "        \n",
    "    b1_maps, _ = simulate_b1_maps(n_Tx, wavelength)\n",
    "    \n",
    "    b1_sTx = b1_maps @ weights_sTx\n",
    "    b1_CP = b1_maps @ weights_CP\n",
    "\n",
    "    CoV_ratio.append(variation(np.abs(b1_sTx[b1_sTx!=0]))/variation(np.abs(b1_CP[b1_CP!=0])))\n",
    "    \n",
    "plt.figure(figsize=(17, 6))\n",
    "plt.plot(wavelength_values, CoV_ratio, linewidth=3)\n",
    "plt.title(\"Benefits of CP mode against single pulse\", fontsize=25, pad=20)\n",
    "plt.xlabel(\"Wavelength in % of sphere diameter\", fontsize=20, labelpad=20)\n",
    "plt.ylabel(\"CoV(sTx) / CoV(CP)\", fontsize=20, labelpad=20)\n",
    "plt.tick_params(axis='both', labelsize=15)\n",
    "plt.show()"
   ]
  },
  {
   "cell_type": "markdown",
   "id": "6c112d8b",
   "metadata": {},
   "source": [
    "This graph shows that, in this coil configuration, the best CP mode is obtained when the excitation frequency is about 90% of the sphere diameter.\n",
    "\n",
    "However in \"real world\" MRI, the required RF frequency depends on the magnet's nominal $B_0$ strength and the type of imaged spins. For example, at 7T 1H proton imaging, the excitation frequency needs to be about 300 MHz. The RF designer this should adapt the coil geometry to get a good $B_1^+$ homogeneity while also taking into account parameters such as the receive sensitivity of the coil, the coupling between the RF elements and the energy deposition into the subject's tissues."
   ]
  }
 ],
 "metadata": {
  "celltoolbar": "Éditer les Méta-Données",
  "kernelspec": {
   "display_name": "Python 3 (ipykernel)",
   "language": "python",
   "name": "python3"
  },
  "language_info": {
   "codemirror_mode": {
    "name": "ipython",
    "version": 3
   },
   "file_extension": ".py",
   "mimetype": "text/x-python",
   "name": "python",
   "nbconvert_exporter": "python",
   "pygments_lexer": "ipython3",
   "version": "3.7.11"
  }
 },
 "nbformat": 4,
 "nbformat_minor": 5
}
